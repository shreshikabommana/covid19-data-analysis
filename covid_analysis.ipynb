{
 "cells": [
  {
   "cell_type": "code",
   "execution_count": 1,
   "id": "ddf80ba0",
   "metadata": {},
   "outputs": [],
   "source": [
    "# Imports\n",
    "import pandas as pd\n",
    "import matplotlib.pyplot as plt\n",
    "import seaborn as sns\n",
    "import plotly.express as px\n",
    "import os\n",
    "import dash\n",
    "from dash import dcc, html\n",
    "from dash.dependencies import Input, Output\n",
    "from jupyter_dash import JupyterDash"
   ]
  },
  {
   "cell_type": "code",
   "execution_count": 2,
   "id": "35948bfa",
   "metadata": {},
   "outputs": [],
   "source": [
    "DATA_DIR = \"data\"\n",
    "OUTPUT_DIR = \"output\"\n",
    "os.makedirs(OUTPUT_DIR, exist_ok=True)\n",
    "\n",
    "covid = pd.read_csv(f\"{DATA_DIR}/covid.csv\")\n",
    "grouped = pd.read_csv(f\"{DATA_DIR}/covid_grouped.csv\")\n",
    "deaths = pd.read_csv(f\"{DATA_DIR}/coviddeath.csv\")"
   ]
  },
  {
   "cell_type": "code",
   "execution_count": 3,
   "id": "661d7067",
   "metadata": {},
   "outputs": [],
   "source": [
    "# Filter for USA and preprocess\n",
    "usa_grouped = grouped[grouped[\"Country/Region\"] == \"US\"].copy()\n",
    "usa_grouped[\"Date\"] = pd.to_datetime(usa_grouped[\"Date\"])\n",
    "usa_grouped.sort_values(\"Date\", inplace=True)"
   ]
  },
  {
   "cell_type": "code",
   "execution_count": 4,
   "id": "27dd5427",
   "metadata": {},
   "outputs": [],
   "source": [
    "# Moving averages (7-day)\n",
    "usa_grouped[\"Cases_7d_avg\"] = usa_grouped[\"Confirmed\"].diff().rolling(window=7).mean()\n",
    "usa_grouped[\"Deaths_7d_avg\"] = usa_grouped[\"Deaths\"].diff().rolling(window=7).mean()"
   ]
  },
  {
   "cell_type": "code",
   "execution_count": 5,
   "id": "3bad0d2e",
   "metadata": {},
   "outputs": [],
   "source": [
    "# Total cases & deaths over time\n",
    "fig1 = px.line(usa_grouped, x=\"Date\", y=\"Confirmed\", title=\"Total Confirmed Cases in USA\")\n",
    "fig1.write_html(f\"{OUTPUT_DIR}/usa_total_cases.html\")\n",
    "\n",
    "fig2 = px.line(usa_grouped, x=\"Date\", y=\"Deaths\", title=\"Total Deaths in USA\")\n",
    "fig2.write_html(f\"{OUTPUT_DIR}/usa_total_deaths.html\")"
   ]
  },
  {
   "cell_type": "code",
   "execution_count": 6,
   "id": "a21e02a5",
   "metadata": {},
   "outputs": [],
   "source": [
    "# Moving average plot\n",
    "plt.figure(figsize=(12,6))\n",
    "plt.plot(usa_grouped[\"Date\"], usa_grouped[\"Cases_7d_avg\"], label=\"7-Day Avg Cases\")\n",
    "plt.plot(usa_grouped[\"Date\"], usa_grouped[\"Deaths_7d_avg\"], label=\"7-Day Avg Deaths\")\n",
    "plt.title(\"COVID-19 USA: 7-Day Moving Averages\")\n",
    "plt.xlabel(\"Date\")\n",
    "plt.ylabel(\"Cases / Deaths\")\n",
    "plt.legend()\n",
    "plt.tight_layout()\n",
    "plt.savefig(f\"{OUTPUT_DIR}/moving_averages.png\")\n",
    "plt.close()"
   ]
  },
  {
   "cell_type": "code",
   "execution_count": 7,
   "id": "aeee0852",
   "metadata": {},
   "outputs": [],
   "source": [
    "# Case-to-Death ratio over time\n",
    "usa_grouped[\"Death_to_case_ratio\"] = (\n",
    "    usa_grouped[\"Deaths\"] / usa_grouped[\"Confirmed\"]\n",
    ").replace([float(\"inf\"), -float(\"inf\")], pd.NA).fillna(0)\n",
    "\n",
    "plt.figure(figsize=(10,5))\n",
    "sns.lineplot(data=usa_grouped, x=\"Date\", y=\"Death_to_case_ratio\")\n",
    "plt.title(\"Death-to-Case Ratio Over Time (USA)\")\n",
    "plt.ylabel(\"Ratio\")\n",
    "plt.tight_layout()\n",
    "plt.savefig(f\"{OUTPUT_DIR}/death_to_case_ratio.png\")\n",
    "plt.close()"
   ]
  },
  {
   "cell_type": "code",
   "execution_count": 8,
   "id": "dc191baa",
   "metadata": {},
   "outputs": [
    {
     "name": "stderr",
     "output_type": "stream",
     "text": [
      "C:\\Users\\shres\\AppData\\Local\\Temp\\ipykernel_23176\\2962116838.py:4: FutureWarning:\n",
      "\n",
      "The default value of numeric_only in DataFrameGroupBy.sum is deprecated. In a future version, numeric_only will default to False. Either specify numeric_only or select only columns which should be valid for the function.\n",
      "\n"
     ]
    }
   ],
   "source": [
    "# Interactive Time Slider for Cases & Deaths\n",
    "usa_grouped[\"Date\"] = pd.to_datetime(usa_grouped[\"Date\"])\n",
    "\n",
    "usa_monthly = usa_grouped.resample(\"M\", on=\"Date\").sum().reset_index()\n",
    "\n",
    "fig_slider = px.line(\n",
    "    usa_monthly,\n",
    "    x=\"Date\",\n",
    "    y=[\"Confirmed\", \"Deaths\"],\n",
    "    title=\"COVID-19 Cases & Deaths Over Time (USA)\",\n",
    "    labels={\"value\": \"Count\", \"variable\": \"Metric\"},\n",
    ")\n",
    "\n",
    "fig_slider.update_layout(\n",
    "    xaxis=dict(title=\"Date\", tickformat=\"%b %Y\"),\n",
    "    yaxis=dict(title=\"Count\"),\n",
    ")\n",
    "fig_slider.write_html(f\"{OUTPUT_DIR}/cases_deaths_over_time.html\")"
   ]
  },
  {
   "cell_type": "code",
   "execution_count": 9,
   "id": "93813ac9",
   "metadata": {},
   "outputs": [],
   "source": [
    "# Dual-Axis Cases vs. Deaths Plot\n",
    "fig, ax1 = plt.subplots(figsize=(12,6))\n",
    "\n",
    "# First Y-axis for Cases\n",
    "ax1.set_xlabel(\"Date\")\n",
    "ax1.set_ylabel(\"7-Day Avg Cases\", color=\"blue\")\n",
    "ax1.plot(usa_grouped[\"Date\"], usa_grouped[\"Cases_7d_avg\"], color=\"blue\", label=\"7-Day Avg Cases\")\n",
    "ax1.tick_params(axis=\"y\", labelcolor=\"blue\")\n",
    "\n",
    "# Second Y-axis for Deaths\n",
    "ax2 = ax1.twinx()\n",
    "ax2.set_ylabel(\"7-Day Avg Deaths\", color=\"red\")\n",
    "ax2.plot(usa_grouped[\"Date\"], usa_grouped[\"Deaths_7d_avg\"], color=\"red\", linestyle=\"dashed\", label=\"7-Day Avg Deaths\")\n",
    "ax2.tick_params(axis=\"y\", labelcolor=\"red\")\n",
    "\n",
    "fig.tight_layout()\n",
    "plt.title(\"Comparison of Cases vs. Deaths in USA (7-Day Moving Avg)\")\n",
    "plt.savefig(f\"{OUTPUT_DIR}/cases_vs_deaths.png\")\n",
    "plt.close()"
   ]
  },
  {
   "cell_type": "markdown",
   "id": "b7bb4351",
   "metadata": {},
   "source": [
    "### Mortality by Comorbidity and Age Range Dashboard: Bar Plot by State"
   ]
  },
  {
   "cell_type": "code",
   "execution_count": 11,
   "id": "96258002",
   "metadata": {},
   "outputs": [
    {
     "name": "stdout",
     "output_type": "stream",
     "text": [
      "Dash is running on http://127.0.0.1:8052/\n",
      "\n",
      "Dash app running on http://127.0.0.1:8052/\n"
     ]
    }
   ],
   "source": [
    "conditions = ['Influenza and pneumonia', 'Chronic lower respiratory diseases',\n",
    "              'Adult respiratory distress syndrome', 'Respiratory failure',\n",
    "              'Respiratory arrest', 'Other diseases of the respiratory system',\n",
    "              'Hypertensive diseases', 'Ischemic heart disease', 'Cardiac arrest',\n",
    "              'Cardiac arrhythmia', 'Heart failure', 'Cerebrovascular diseases',\n",
    "              'Other diseases of the circulatory system', 'Sepsis', 'Malignant neoplasms',\n",
    "              'Diabetes', 'Obesity', 'Alzheimer disease', 'Vascular and unspecified dementia',\n",
    "              'Renal failure', 'Intentional and unintentional injury, poisoning, and other adverse events',\n",
    "              'All other conditions and causes (residual)', 'COVID-19']\n",
    "\n",
    "condition_groups = ['Respiratory diseases', 'Circulatory diseases', 'Sepsis', 'Malignant neoplasms', 'Diabetes',\n",
    "                    'Obesity', 'Alzheimer disease', 'Vascular and unspecified dementia', 'Renal failure',\n",
    "                    'Intentional and unintentional injury, poisoning and other adverse events',\n",
    "                    'All other conditions and causes (residual)', 'Coronavirus Disease 2019']\n",
    "\n",
    "app1 = JupyterDash(__name__)\n",
    "\n",
    "age_range_dropdown = dcc.Dropdown(\n",
    "    id='age-range-dropdown',\n",
    "    options=[\n",
    "        {'label': '0-24', 'value': '0-24'},\n",
    "        {'label': '25-34', 'value': '25-34'},\n",
    "        {'label': '35-44', 'value': '35-44'},\n",
    "        {'label': '45-54', 'value': '45-54'},\n",
    "        {'label': '55-64', 'value': '55-64'},\n",
    "        {'label': '65-74', 'value': '65-74'},\n",
    "        {'label': '75-84', 'value': '75-84'},\n",
    "        {'label': '85+', 'value': '85+'},\n",
    "        {'label': 'Not stated', 'value': 'Not stated'},\n",
    "        {'label': 'All ages', 'value': 'All ages'}\n",
    "    ],\n",
    "    value='All ages',\n",
    ")\n",
    "\n",
    "condition_dropdown = dcc.Dropdown(\n",
    "    id='condition-dropdown',\n",
    "    options=[{'label': condition, 'value': condition} for condition in conditions],\n",
    "    value=conditions[0],\n",
    ")\n",
    "\n",
    "app1.layout = html.Div([\n",
    "    html.H3(\"Select Age Range and Condition\"),\n",
    "    age_range_dropdown,\n",
    "    condition_dropdown,\n",
    "    html.Div(id='display-output', children=\"Results will be shown here.\"),\n",
    "    dcc.Graph(id='condition-visualization')\n",
    "])\n",
    "\n",
    "# Callback to update based on selections\n",
    "@app1.callback(\n",
    "    [Output('display-output', 'children'),\n",
    "     Output('condition-visualization', 'figure')],\n",
    "    [Input('age-range-dropdown', 'value'),\n",
    "     Input('condition-dropdown', 'value')]\n",
    ")\n",
    "def update_output(age_range, condition):\n",
    "    filtered_data = deaths[(deaths['Age Group'] == age_range) & (deaths['Condition'] == condition)]\n",
    "    \n",
    "    output_text = f\"Age Range: {age_range}, Condition: {condition}, \" \\\n",
    "                  f\"Number of Cases: {len(filtered_data)}\"\n",
    "\n",
    "    fig = px.bar(filtered_data,\n",
    "                 x='State',\n",
    "                 y='Number of COVID-19 Deaths',\n",
    "                 title=f\"COVID-19 Deaths by State for {condition} in Age Range: {age_range}\",\n",
    "                 labels={\"Number of COVID-19 Deaths\": \"Deaths\", \"State\": \"State\"})\n",
    "\n",
    "    fig.update_layout(\n",
    "        xaxis_title=\"State\",\n",
    "        yaxis_title=\"Number of Deaths\",\n",
    "        showlegend=False\n",
    "    )\n",
    "\n",
    "    return output_text, fig\n",
    "\n",
    "if __name__ == '__main__':\n",
    "    app1.run_server(debug=True, port=8052)"
   ]
  },
  {
   "cell_type": "markdown",
   "id": "f0f14eab",
   "metadata": {},
   "source": [
    "### Dynamic Time Series Dashboard: Tracking State-Specific Trends Over Time"
   ]
  },
  {
   "cell_type": "code",
   "execution_count": 12,
   "id": "8a5cbbff",
   "metadata": {},
   "outputs": [
    {
     "name": "stdout",
     "output_type": "stream",
     "text": [
      "Dash is running on http://127.0.0.1:8053/\n",
      "\n",
      "Dash app running on http://127.0.0.1:8053/\n"
     ]
    }
   ],
   "source": [
    "app2 = JupyterDash(__name__)\n",
    "\n",
    "# Dropdown for age range\n",
    "age_range_dropdown = dcc.Dropdown(\n",
    "    id='age-range-dropdown',\n",
    "    options=[\n",
    "        {'label': '0-24', 'value': '0-24'},\n",
    "        {'label': '25-34', 'value': '25-34'},\n",
    "        {'label': '35-44', 'value': '35-44'},\n",
    "        {'label': '45-54', 'value': '45-54'},\n",
    "        {'label': '55-64', 'value': '55-64'},\n",
    "        {'label': '65-74', 'value': '65-74'},\n",
    "        {'label': '75-84', 'value': '75-84'},\n",
    "        {'label': '85+', 'value': '85+'},\n",
    "        {'label': 'Not stated', 'value': 'Not stated'},\n",
    "        {'label': 'All ages', 'value': 'All ages'}\n",
    "    ],\n",
    "    value='All ages',\n",
    ")\n",
    "\n",
    "app2.layout = html.Div([\n",
    "    age_range_dropdown,\n",
    "    dcc.Graph(id='usa-map'),\n",
    "])\n",
    "\n",
    "# Callback to update the map based on age range\n",
    "@app2.callback(\n",
    "    Output('usa-map', 'figure'),\n",
    "    [Input('age-range-dropdown', 'value')]\n",
    ")\n",
    "def update_usa_map(selected_age_range):\n",
    "    if selected_age_range == 'All ages':\n",
    "        filtered_data = deaths.groupby(\"State\")[\"Number of COVID-19 Deaths\"].sum().reset_index()\n",
    "    else:\n",
    "        filtered_data = deaths[deaths['Age Group'] == selected_age_range].groupby(\"State\")[\"Number of COVID-19 Deaths\"].sum().reset_index()\n",
    "\n",
    "    fig_map = px.choropleth(\n",
    "        filtered_data,\n",
    "        locations=\"State\",\n",
    "        locationmode=\"USA-states\",\n",
    "        color=\"Number of COVID-19 Deaths\",\n",
    "        color_continuous_scale=\"Greys\",\n",
    "        title=f\"Total COVID-19 Deaths per State - Age Group: {selected_age_range}\",\n",
    "        scope=\"usa\",\n",
    "        range_color=[filtered_data[\"Number of COVID-19 Deaths\"].min(),\n",
    "                     filtered_data[\"Number of COVID-19 Deaths\"].max() * 0.025],\n",
    "    )\n",
    "    return fig_map\n",
    "\n",
    "if __name__ == '__main__':\n",
    "    app2.run_server(debug=True, port=8053)"
   ]
  }
 ],
 "metadata": {
  "kernelspec": {
   "display_name": "Python 3 (ipykernel)",
   "language": "python",
   "name": "python3"
  },
  "language_info": {
   "codemirror_mode": {
    "name": "ipython",
    "version": 3
   },
   "file_extension": ".py",
   "mimetype": "text/x-python",
   "name": "python",
   "nbconvert_exporter": "python",
   "pygments_lexer": "ipython3",
   "version": "3.10.8"
  }
 },
 "nbformat": 4,
 "nbformat_minor": 5
}
