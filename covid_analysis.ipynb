{
 "cells": [
  {
   "cell_type": "code",
   "execution_count": 1,
   "id": "ddf80ba0",
   "metadata": {},
   "outputs": [],
   "source": [
    "# Imports\n",
    "import pandas as pd\n",
    "import matplotlib.pyplot as plt\n",
    "import seaborn as sns\n",
    "import plotly.express as px\n",
    "import os\n",
    "import dash\n",
    "from dash import dcc, html\n",
    "from dash.dependencies import Input, Output\n",
    "from jupyter_dash import JupyterDash"
   ]
  },
  {
   "cell_type": "code",
   "execution_count": 2,
   "id": "35948bfa",
   "metadata": {},
   "outputs": [],
   "source": [
    "DATA_DIR = \"data\"\n",
    "OUTPUT_DIR = \"output\"\n",
    "os.makedirs(OUTPUT_DIR, exist_ok=True)\n",
    "\n",
    "covid = pd.read_csv(f\"{DATA_DIR}/covid.csv\")\n",
    "grouped = pd.read_csv(f\"{DATA_DIR}/covid_grouped.csv\")\n",
    "deaths = pd.read_csv(f\"{DATA_DIR}/coviddeath.csv\")"
   ]
  },
  {
   "cell_type": "code",
   "execution_count": 3,
   "id": "661d7067",
   "metadata": {},
   "outputs": [],
   "source": [
    "# Filter for USA and preprocess\n",
    "usa_grouped = grouped[grouped[\"Country/Region\"] == \"US\"].copy()\n",
    "usa_grouped[\"Date\"] = pd.to_datetime(usa_grouped[\"Date\"])\n",
    "usa_grouped.sort_values(\"Date\", inplace=True)"
   ]
  },
  {
   "cell_type": "code",
   "execution_count": 4,
   "id": "27dd5427",
   "metadata": {},
   "outputs": [],
   "source": [
    "# Moving averages (7-day)\n",
    "usa_grouped[\"Cases_7d_avg\"] = usa_grouped[\"Confirmed\"].diff().rolling(window=7).mean()\n",
    "usa_grouped[\"Deaths_7d_avg\"] = usa_grouped[\"Deaths\"].diff().rolling(window=7).mean()"
   ]
  },
  {
   "cell_type": "code",
   "execution_count": 5,
   "id": "3bad0d2e",
   "metadata": {},
   "outputs": [],
   "source": [
    "# Total cases & deaths over time\n",
    "fig1 = px.line(usa_grouped, x=\"Date\", y=\"Confirmed\", title=\"Total Confirmed Cases in USA\")\n",
    "fig1.write_html(f\"{OUTPUT_DIR}/usa_total_cases.html\")\n",
    "\n",
    "fig2 = px.line(usa_grouped, x=\"Date\", y=\"Deaths\", title=\"Total Deaths in USA\")\n",
    "fig2.write_html(f\"{OUTPUT_DIR}/usa_total_deaths.html\")"
   ]
  },
  {
   "cell_type": "code",
   "execution_count": 6,
   "id": "a21e02a5",
   "metadata": {},
   "outputs": [],
   "source": [
    "# Moving average plot\n",
    "plt.figure(figsize=(12,6))\n",
    "plt.plot(usa_grouped[\"Date\"], usa_grouped[\"Cases_7d_avg\"], label=\"7-Day Avg Cases\")\n",
    "plt.plot(usa_grouped[\"Date\"], usa_grouped[\"Deaths_7d_avg\"], label=\"7-Day Avg Deaths\")\n",
    "plt.title(\"COVID-19 USA: 7-Day Moving Averages\")\n",
    "plt.xlabel(\"Date\")\n",
    "plt.ylabel(\"Cases / Deaths\")\n",
    "plt.legend()\n",
    "plt.tight_layout()\n",
    "plt.savefig(f\"{OUTPUT_DIR}/moving_averages.png\")\n",
    "plt.close()"
   ]
  },
  {
   "cell_type": "code",
   "execution_count": 7,
   "id": "aeee0852",
   "metadata": {},
   "outputs": [],
   "source": [
    "# Case-to-Death ratio over time\n",
    "usa_grouped[\"Death_to_case_ratio\"] = (\n",
    "    usa_grouped[\"Deaths\"] / usa_grouped[\"Confirmed\"]\n",
    ").replace([float(\"inf\"), -float(\"inf\")], pd.NA).fillna(0)\n",
    "\n",
    "plt.figure(figsize=(10,5))\n",
    "sns.lineplot(data=usa_grouped, x=\"Date\", y=\"Death_to_case_ratio\")\n",
    "plt.title(\"Death-to-Case Ratio Over Time (USA)\")\n",
    "plt.ylabel(\"Ratio\")\n",
    "plt.tight_layout()\n",
    "plt.savefig(f\"{OUTPUT_DIR}/death_to_case_ratio.png\")\n",
    "plt.close()"
   ]
  },
  {
   "cell_type": "code",
   "execution_count": 8,
   "id": "dc191baa",
   "metadata": {},
   "outputs": [
    {
     "name": "stderr",
     "output_type": "stream",
     "text": [
      "C:\\Users\\shres\\AppData\\Local\\Temp\\ipykernel_22856\\2962116838.py:4: FutureWarning:\n",
      "\n",
      "The default value of numeric_only in DataFrameGroupBy.sum is deprecated. In a future version, numeric_only will default to False. Either specify numeric_only or select only columns which should be valid for the function.\n",
      "\n"
     ]
    }
   ],
   "source": [
    "# Interactive Time Slider for Cases & Deaths\n",
    "usa_grouped[\"Date\"] = pd.to_datetime(usa_grouped[\"Date\"])\n",
    "\n",
    "usa_monthly = usa_grouped.resample(\"M\", on=\"Date\").sum().reset_index()\n",
    "\n",
    "fig_slider = px.line(\n",
    "    usa_monthly,\n",
    "    x=\"Date\",\n",
    "    y=[\"Confirmed\", \"Deaths\"],\n",
    "    title=\"COVID-19 Cases & Deaths Over Time (USA)\",\n",
    "    labels={\"value\": \"Count\", \"variable\": \"Metric\"},\n",
    ")\n",
    "\n",
    "fig_slider.update_layout(\n",
    "    xaxis=dict(title=\"Date\", tickformat=\"%b %Y\"),\n",
    "    yaxis=dict(title=\"Count\"),\n",
    ")\n",
    "fig_slider.write_html(f\"{OUTPUT_DIR}/cases_deaths_over_time.html\")"
   ]
  },
  {
   "cell_type": "code",
   "execution_count": 9,
   "id": "93813ac9",
   "metadata": {},
   "outputs": [],
   "source": [
    "# Dual-Axis Cases vs. Deaths Plot\n",
    "fig, ax1 = plt.subplots(figsize=(12,6))\n",
    "\n",
    "# First Y-axis for Cases\n",
    "ax1.set_xlabel(\"Date\")\n",
    "ax1.set_ylabel(\"7-Day Avg Cases\", color=\"blue\")\n",
    "ax1.plot(usa_grouped[\"Date\"], usa_grouped[\"Cases_7d_avg\"], color=\"blue\", label=\"7-Day Avg Cases\")\n",
    "ax1.tick_params(axis=\"y\", labelcolor=\"blue\")\n",
    "\n",
    "# Second Y-axis for Deaths\n",
    "ax2 = ax1.twinx()\n",
    "ax2.set_ylabel(\"7-Day Avg Deaths\", color=\"red\")\n",
    "ax2.plot(usa_grouped[\"Date\"], usa_grouped[\"Deaths_7d_avg\"], color=\"red\", linestyle=\"dashed\", label=\"7-Day Avg Deaths\")\n",
    "ax2.tick_params(axis=\"y\", labelcolor=\"red\")\n",
    "\n",
    "fig.tight_layout()\n",
    "plt.title(\"Comparison of Cases vs. Deaths in USA (7-Day Moving Avg)\")\n",
    "plt.savefig(f\"{OUTPUT_DIR}/cases_vs_deaths.png\")\n",
    "plt.close()"
   ]
  },
  {
   "cell_type": "markdown",
   "id": "b7bb4351",
   "metadata": {},
   "source": [
    "### Mortality by Comorbidity and Age Range Dashboard: Bar Plot by State"
   ]
  },
  {
   "cell_type": "code",
   "execution_count": 15,
   "id": "96258002",
   "metadata": {},
   "outputs": [],
   "source": [
    "conditions = ['Influenza and pneumonia', 'Chronic lower respiratory diseases',\n",
    "              'Adult respiratory distress syndrome', 'Respiratory failure',\n",
    "              'Respiratory arrest', 'Other diseases of the respiratory system',\n",
    "              'Hypertensive diseases', 'Ischemic heart disease', 'Cardiac arrest',\n",
    "              'Cardiac arrhythmia', 'Heart failure', 'Cerebrovascular diseases',\n",
    "              'Other diseases of the circulatory system', 'Sepsis', 'Malignant neoplasms',\n",
    "              'Diabetes', 'Obesity', 'Alzheimer disease', 'Vascular and unspecified dementia',\n",
    "              'Renal failure', 'Intentional and unintentional injury, poisoning, and other adverse events',\n",
    "              'All other conditions and causes (residual)', 'COVID-19']\n",
    "\n",
    "condition_groups = ['Respiratory diseases', 'Circulatory diseases', 'Sepsis', 'Malignant neoplasms', 'Diabetes',\n",
    "                    'Obesity', 'Alzheimer disease', 'Vascular and unspecified dementia', 'Renal failure',\n",
    "                    'Intentional and unintentional injury, poisoning and other adverse events',\n",
    "                    'All other conditions and causes (residual)', 'Coronavirus Disease 2019']\n",
    "\n",
    "app1 = JupyterDash(__name__)\n",
    "\n",
    "age_range_dropdown = dcc.Dropdown(\n",
    "    id='age-range-dropdown',\n",
    "    options=[\n",
    "        {'label': '0-24', 'value': '0-24'},\n",
    "        {'label': '25-34', 'value': '25-34'},\n",
    "        {'label': '35-44', 'value': '35-44'},\n",
    "        {'label': '45-54', 'value': '45-54'},\n",
    "        {'label': '55-64', 'value': '55-64'},\n",
    "        {'label': '65-74', 'value': '65-74'},\n",
    "        {'label': '75-84', 'value': '75-84'},\n",
    "        {'label': '85+', 'value': '85+'},\n",
    "        {'label': 'Not stated', 'value': 'Not stated'},\n",
    "        {'label': 'All ages', 'value': 'All ages'}\n",
    "    ],\n",
    "    value='All ages',\n",
    ")\n",
    "\n",
    "condition_dropdown = dcc.Dropdown(\n",
    "    id='condition-dropdown',\n",
    "    options=[{'label': condition, 'value': condition} for condition in conditions],\n",
    "    value=conditions[0],\n",
    ")\n",
    "\n",
    "app1.layout = html.Div([\n",
    "    html.H3(\"Select Age Range and Condition\"),\n",
    "    age_range_dropdown,\n",
    "    condition_dropdown,\n",
    "    html.Div(id='display-output', children=\"Results will be shown here.\"),\n",
    "    dcc.Graph(id='condition-visualization')\n",
    "])\n",
    "\n",
    "# Callback to update based on selections\n",
    "@app1.callback(\n",
    "    [Output('display-output', 'children'),\n",
    "     Output('condition-visualization', 'figure')],\n",
    "    [Input('age-range-dropdown', 'value'),\n",
    "     Input('condition-dropdown', 'value')]\n",
    ")\n",
    "def update_output(age_range, condition):\n",
    "    filtered_data = deaths[(deaths['Age Group'] == age_range) & (deaths['Condition'] == condition)]\n",
    "    \n",
    "    output_text = f\"Age Range: {age_range}, Condition: {condition}, \" \\\n",
    "                  f\"Number of Cases: {len(filtered_data)}\"\n",
    "\n",
    "    fig = px.bar(filtered_data,\n",
    "                 x='State',\n",
    "                 y='Number of COVID-19 Deaths',\n",
    "                 title=f\"COVID-19 Deaths by State for {condition} in Age Range: {age_range}\",\n",
    "                 labels={\"Number of COVID-19 Deaths\": \"Deaths\", \"State\": \"State\"})\n",
    "\n",
    "    fig.update_layout(\n",
    "        xaxis_title=\"State\",\n",
    "        yaxis_title=\"Number of Deaths\",\n",
    "        showlegend=False\n",
    "    )\n",
    "\n",
    "    return output_text, fig\n",
    "\n",
    "# if __name__ == '__main__':\n",
    "#     app1.run_server(debug=True, port=8050)\n",
    "\n",
    "app = app1"
   ]
  },
  {
   "cell_type": "markdown",
   "id": "f0f14eab",
   "metadata": {},
   "source": [
    "### Dynamic Time Series Dashboard: Tracking State-Specific Trends Over Time"
   ]
  },
  {
   "cell_type": "code",
   "execution_count": 16,
   "id": "8a5cbbff",
   "metadata": {},
   "outputs": [
    {
     "name": "stdout",
     "output_type": "stream",
     "text": [
      "Dash is running on http://127.0.0.1:8051/\n",
      "\n"
     ]
    },
    {
     "ename": "OSError",
     "evalue": "Address 'http://127.0.0.1:8051' already in use.\n    Try passing a different port to run_server.",
     "output_type": "error",
     "traceback": [
      "\u001b[1;31m---------------------------------------------------------------------------\u001b[0m",
      "\u001b[1;31mOSError\u001b[0m                                   Traceback (most recent call last)",
      "Cell \u001b[1;32mIn[16], line 51\u001b[0m\n\u001b[0;32m     48\u001b[0m     \u001b[38;5;28;01mreturn\u001b[39;00m fig_map\n\u001b[0;32m     50\u001b[0m \u001b[38;5;28;01mif\u001b[39;00m \u001b[38;5;18m__name__\u001b[39m \u001b[38;5;241m==\u001b[39m \u001b[38;5;124m'\u001b[39m\u001b[38;5;124m__main__\u001b[39m\u001b[38;5;124m'\u001b[39m:\n\u001b[1;32m---> 51\u001b[0m     \u001b[43mapp2\u001b[49m\u001b[38;5;241;43m.\u001b[39;49m\u001b[43mrun_server\u001b[49m\u001b[43m(\u001b[49m\u001b[43mdebug\u001b[49m\u001b[38;5;241;43m=\u001b[39;49m\u001b[38;5;28;43;01mTrue\u001b[39;49;00m\u001b[43m,\u001b[49m\u001b[43m \u001b[49m\u001b[43mport\u001b[49m\u001b[38;5;241;43m=\u001b[39;49m\u001b[38;5;241;43m8051\u001b[39;49m\u001b[43m)\u001b[49m\n",
      "File \u001b[1;32m~\\miniconda3\\lib\\site-packages\\jupyter_dash\\jupyter_app.py:339\u001b[0m, in \u001b[0;36mJupyterDash.run_server\u001b[1;34m(self, mode, width, height, inline_exceptions, **kwargs)\u001b[0m\n\u001b[0;32m    329\u001b[0m         url \u001b[38;5;241m=\u001b[39m \u001b[38;5;124m\"\u001b[39m\u001b[38;5;124mhttp://\u001b[39m\u001b[38;5;132;01m{host}\u001b[39;00m\u001b[38;5;124m:\u001b[39m\u001b[38;5;132;01m{port}\u001b[39;00m\u001b[38;5;124m\"\u001b[39m\u001b[38;5;241m.\u001b[39mformat(\n\u001b[0;32m    330\u001b[0m             host\u001b[38;5;241m=\u001b[39mhost, port\u001b[38;5;241m=\u001b[39mport, token\u001b[38;5;241m=\u001b[39mJupyterDash\u001b[38;5;241m.\u001b[39m_token\n\u001b[0;32m    331\u001b[0m         )\n\u001b[0;32m    332\u001b[0m         \u001b[38;5;28;01mraise\u001b[39;00m \u001b[38;5;167;01mOSError\u001b[39;00m(\n\u001b[0;32m    333\u001b[0m             \u001b[38;5;124m\"\u001b[39m\u001b[38;5;124mAddress \u001b[39m\u001b[38;5;124m'\u001b[39m\u001b[38;5;132;01m{url}\u001b[39;00m\u001b[38;5;124m'\u001b[39m\u001b[38;5;124m already in use.\u001b[39m\u001b[38;5;130;01m\\n\u001b[39;00m\u001b[38;5;124m\"\u001b[39m\n\u001b[0;32m    334\u001b[0m             \u001b[38;5;124m\"\u001b[39m\u001b[38;5;124m    Try passing a different port to run_server.\u001b[39m\u001b[38;5;124m\"\u001b[39m\u001b[38;5;241m.\u001b[39mformat(\n\u001b[0;32m    335\u001b[0m                 url\u001b[38;5;241m=\u001b[39murl\n\u001b[0;32m    336\u001b[0m             )\n\u001b[0;32m    337\u001b[0m         )\n\u001b[1;32m--> 339\u001b[0m \u001b[43mwait_for_app\u001b[49m\u001b[43m(\u001b[49m\u001b[43m)\u001b[49m\n\u001b[0;32m    341\u001b[0m \u001b[38;5;28;01mif\u001b[39;00m JupyterDash\u001b[38;5;241m.\u001b[39m_in_colab:\n\u001b[0;32m    342\u001b[0m     \u001b[38;5;28mself\u001b[39m\u001b[38;5;241m.\u001b[39m_display_in_colab(dashboard_url, port, mode, width, height)\n",
      "File \u001b[1;32m~\\miniconda3\\lib\\site-packages\\retrying.py:56\u001b[0m, in \u001b[0;36mretry.<locals>.wrap.<locals>.wrapped_f\u001b[1;34m(*args, **kw)\u001b[0m\n\u001b[0;32m     54\u001b[0m \u001b[38;5;129m@six\u001b[39m\u001b[38;5;241m.\u001b[39mwraps(f)\n\u001b[0;32m     55\u001b[0m \u001b[38;5;28;01mdef\u001b[39;00m \u001b[38;5;21mwrapped_f\u001b[39m(\u001b[38;5;241m*\u001b[39margs, \u001b[38;5;241m*\u001b[39m\u001b[38;5;241m*\u001b[39mkw):\n\u001b[1;32m---> 56\u001b[0m     \u001b[38;5;28;01mreturn\u001b[39;00m Retrying(\u001b[38;5;241m*\u001b[39mdargs, \u001b[38;5;241m*\u001b[39m\u001b[38;5;241m*\u001b[39mdkw)\u001b[38;5;241m.\u001b[39mcall(f, \u001b[38;5;241m*\u001b[39margs, \u001b[38;5;241m*\u001b[39m\u001b[38;5;241m*\u001b[39mkw)\n",
      "File \u001b[1;32m~\\miniconda3\\lib\\site-packages\\retrying.py:266\u001b[0m, in \u001b[0;36mRetrying.call\u001b[1;34m(self, fn, *args, **kwargs)\u001b[0m\n\u001b[0;32m    263\u001b[0m \u001b[38;5;28;01mif\u001b[39;00m \u001b[38;5;28mself\u001b[39m\u001b[38;5;241m.\u001b[39mstop(attempt_number, delay_since_first_attempt_ms):\n\u001b[0;32m    264\u001b[0m     \u001b[38;5;28;01mif\u001b[39;00m \u001b[38;5;129;01mnot\u001b[39;00m \u001b[38;5;28mself\u001b[39m\u001b[38;5;241m.\u001b[39m_wrap_exception \u001b[38;5;129;01mand\u001b[39;00m attempt\u001b[38;5;241m.\u001b[39mhas_exception:\n\u001b[0;32m    265\u001b[0m         \u001b[38;5;66;03m# get() on an attempt with an exception should cause it to be raised, but raise just in case\u001b[39;00m\n\u001b[1;32m--> 266\u001b[0m         \u001b[38;5;28;01mraise\u001b[39;00m \u001b[43mattempt\u001b[49m\u001b[38;5;241;43m.\u001b[39;49m\u001b[43mget\u001b[49m\u001b[43m(\u001b[49m\u001b[43m)\u001b[49m\n\u001b[0;32m    267\u001b[0m     \u001b[38;5;28;01melse\u001b[39;00m:\n\u001b[0;32m    268\u001b[0m         \u001b[38;5;28;01mraise\u001b[39;00m RetryError(attempt)\n",
      "File \u001b[1;32m~\\miniconda3\\lib\\site-packages\\retrying.py:301\u001b[0m, in \u001b[0;36mAttempt.get\u001b[1;34m(self, wrap_exception)\u001b[0m\n\u001b[0;32m    299\u001b[0m         \u001b[38;5;28;01mraise\u001b[39;00m RetryError(\u001b[38;5;28mself\u001b[39m)\n\u001b[0;32m    300\u001b[0m     \u001b[38;5;28;01melse\u001b[39;00m:\n\u001b[1;32m--> 301\u001b[0m         \u001b[43msix\u001b[49m\u001b[38;5;241;43m.\u001b[39;49m\u001b[43mreraise\u001b[49m\u001b[43m(\u001b[49m\u001b[38;5;28;43mself\u001b[39;49m\u001b[38;5;241;43m.\u001b[39;49m\u001b[43mvalue\u001b[49m\u001b[43m[\u001b[49m\u001b[38;5;241;43m0\u001b[39;49m\u001b[43m]\u001b[49m\u001b[43m,\u001b[49m\u001b[43m \u001b[49m\u001b[38;5;28;43mself\u001b[39;49m\u001b[38;5;241;43m.\u001b[39;49m\u001b[43mvalue\u001b[49m\u001b[43m[\u001b[49m\u001b[38;5;241;43m1\u001b[39;49m\u001b[43m]\u001b[49m\u001b[43m,\u001b[49m\u001b[43m \u001b[49m\u001b[38;5;28;43mself\u001b[39;49m\u001b[38;5;241;43m.\u001b[39;49m\u001b[43mvalue\u001b[49m\u001b[43m[\u001b[49m\u001b[38;5;241;43m2\u001b[39;49m\u001b[43m]\u001b[49m\u001b[43m)\u001b[49m\n\u001b[0;32m    302\u001b[0m \u001b[38;5;28;01melse\u001b[39;00m:\n\u001b[0;32m    303\u001b[0m     \u001b[38;5;28;01mreturn\u001b[39;00m \u001b[38;5;28mself\u001b[39m\u001b[38;5;241m.\u001b[39mvalue\n",
      "File \u001b[1;32m~\\miniconda3\\lib\\site-packages\\six.py:719\u001b[0m, in \u001b[0;36mreraise\u001b[1;34m(tp, value, tb)\u001b[0m\n\u001b[0;32m    717\u001b[0m     \u001b[38;5;28;01mif\u001b[39;00m value\u001b[38;5;241m.\u001b[39m__traceback__ \u001b[38;5;129;01mis\u001b[39;00m \u001b[38;5;129;01mnot\u001b[39;00m tb:\n\u001b[0;32m    718\u001b[0m         \u001b[38;5;28;01mraise\u001b[39;00m value\u001b[38;5;241m.\u001b[39mwith_traceback(tb)\n\u001b[1;32m--> 719\u001b[0m     \u001b[38;5;28;01mraise\u001b[39;00m value\n\u001b[0;32m    720\u001b[0m \u001b[38;5;28;01mfinally\u001b[39;00m:\n\u001b[0;32m    721\u001b[0m     value \u001b[38;5;241m=\u001b[39m \u001b[38;5;28;01mNone\u001b[39;00m\n",
      "File \u001b[1;32m~\\miniconda3\\lib\\site-packages\\retrying.py:251\u001b[0m, in \u001b[0;36mRetrying.call\u001b[1;34m(self, fn, *args, **kwargs)\u001b[0m\n\u001b[0;32m    248\u001b[0m     \u001b[38;5;28mself\u001b[39m\u001b[38;5;241m.\u001b[39m_before_attempts(attempt_number)\n\u001b[0;32m    250\u001b[0m \u001b[38;5;28;01mtry\u001b[39;00m:\n\u001b[1;32m--> 251\u001b[0m     attempt \u001b[38;5;241m=\u001b[39m Attempt(fn(\u001b[38;5;241m*\u001b[39margs, \u001b[38;5;241m*\u001b[39m\u001b[38;5;241m*\u001b[39mkwargs), attempt_number, \u001b[38;5;28;01mFalse\u001b[39;00m)\n\u001b[0;32m    252\u001b[0m \u001b[38;5;28;01mexcept\u001b[39;00m:\n\u001b[0;32m    253\u001b[0m     tb \u001b[38;5;241m=\u001b[39m sys\u001b[38;5;241m.\u001b[39mexc_info()\n",
      "File \u001b[1;32m~\\miniconda3\\lib\\site-packages\\jupyter_dash\\jupyter_app.py:332\u001b[0m, in \u001b[0;36mJupyterDash.run_server.<locals>.wait_for_app\u001b[1;34m()\u001b[0m\n\u001b[0;32m    328\u001b[0m \u001b[38;5;28;01mif\u001b[39;00m res \u001b[38;5;241m!=\u001b[39m \u001b[38;5;124m\"\u001b[39m\u001b[38;5;124mAlive\u001b[39m\u001b[38;5;124m\"\u001b[39m:\n\u001b[0;32m    329\u001b[0m     url \u001b[38;5;241m=\u001b[39m \u001b[38;5;124m\"\u001b[39m\u001b[38;5;124mhttp://\u001b[39m\u001b[38;5;132;01m{host}\u001b[39;00m\u001b[38;5;124m:\u001b[39m\u001b[38;5;132;01m{port}\u001b[39;00m\u001b[38;5;124m\"\u001b[39m\u001b[38;5;241m.\u001b[39mformat(\n\u001b[0;32m    330\u001b[0m         host\u001b[38;5;241m=\u001b[39mhost, port\u001b[38;5;241m=\u001b[39mport, token\u001b[38;5;241m=\u001b[39mJupyterDash\u001b[38;5;241m.\u001b[39m_token\n\u001b[0;32m    331\u001b[0m     )\n\u001b[1;32m--> 332\u001b[0m     \u001b[38;5;28;01mraise\u001b[39;00m \u001b[38;5;167;01mOSError\u001b[39;00m(\n\u001b[0;32m    333\u001b[0m         \u001b[38;5;124m\"\u001b[39m\u001b[38;5;124mAddress \u001b[39m\u001b[38;5;124m'\u001b[39m\u001b[38;5;132;01m{url}\u001b[39;00m\u001b[38;5;124m'\u001b[39m\u001b[38;5;124m already in use.\u001b[39m\u001b[38;5;130;01m\\n\u001b[39;00m\u001b[38;5;124m\"\u001b[39m\n\u001b[0;32m    334\u001b[0m         \u001b[38;5;124m\"\u001b[39m\u001b[38;5;124m    Try passing a different port to run_server.\u001b[39m\u001b[38;5;124m\"\u001b[39m\u001b[38;5;241m.\u001b[39mformat(\n\u001b[0;32m    335\u001b[0m             url\u001b[38;5;241m=\u001b[39murl\n\u001b[0;32m    336\u001b[0m         )\n\u001b[0;32m    337\u001b[0m     )\n",
      "\u001b[1;31mOSError\u001b[0m: Address 'http://127.0.0.1:8051' already in use.\n    Try passing a different port to run_server."
     ]
    }
   ],
   "source": [
    "app2 = JupyterDash(__name__)\n",
    "\n",
    "# Dropdown for age range\n",
    "age_range_dropdown = dcc.Dropdown(\n",
    "    id='age-range-dropdown',\n",
    "    options=[\n",
    "        {'label': '0-24', 'value': '0-24'},\n",
    "        {'label': '25-34', 'value': '25-34'},\n",
    "        {'label': '35-44', 'value': '35-44'},\n",
    "        {'label': '45-54', 'value': '45-54'},\n",
    "        {'label': '55-64', 'value': '55-64'},\n",
    "        {'label': '65-74', 'value': '65-74'},\n",
    "        {'label': '75-84', 'value': '75-84'},\n",
    "        {'label': '85+', 'value': '85+'},\n",
    "        {'label': 'Not stated', 'value': 'Not stated'},\n",
    "        {'label': 'All ages', 'value': 'All ages'}\n",
    "    ],\n",
    "    value='All ages',\n",
    ")\n",
    "\n",
    "app2.layout = html.Div([\n",
    "    age_range_dropdown,\n",
    "    dcc.Graph(id='usa-map'),\n",
    "])\n",
    "\n",
    "# Callback to update the map based on age range\n",
    "@app2.callback(\n",
    "    Output('usa-map', 'figure'),\n",
    "    [Input('age-range-dropdown', 'value')]\n",
    ")\n",
    "def update_usa_map(selected_age_range):\n",
    "    if selected_age_range == 'All ages':\n",
    "        filtered_data = deaths.groupby(\"State\")[\"Number of COVID-19 Deaths\"].sum().reset_index()\n",
    "    else:\n",
    "        filtered_data = deaths[deaths['Age Group'] == selected_age_range].groupby(\"State\")[\"Number of COVID-19 Deaths\"].sum().reset_index()\n",
    "\n",
    "    fig_map = px.choropleth(\n",
    "        filtered_data,\n",
    "        locations=\"State\",\n",
    "        locationmode=\"USA-states\",\n",
    "        color=\"Number of COVID-19 Deaths\",\n",
    "        color_continuous_scale=\"Greys\",\n",
    "        title=f\"Total COVID-19 Deaths per State - Age Group: {selected_age_range}\",\n",
    "        scope=\"usa\",\n",
    "        range_color=[filtered_data[\"Number of COVID-19 Deaths\"].min(),\n",
    "                     filtered_data[\"Number of COVID-19 Deaths\"].max() * 0.025],\n",
    "    )\n",
    "    return fig_map\n",
    "\n",
    "if __name__ == '__main__':\n",
    "    app2.run_server(debug=True, port=8051)"
   ]
  },
  {
   "cell_type": "code",
   "execution_count": null,
   "id": "34a671a0",
   "metadata": {},
   "outputs": [],
   "source": []
  },
  {
   "cell_type": "code",
   "execution_count": null,
   "id": "4ef6d033",
   "metadata": {},
   "outputs": [],
   "source": []
  }
 ],
 "metadata": {
  "kernelspec": {
   "display_name": "Python 3 (ipykernel)",
   "language": "python",
   "name": "python3"
  },
  "language_info": {
   "codemirror_mode": {
    "name": "ipython",
    "version": 3
   },
   "file_extension": ".py",
   "mimetype": "text/x-python",
   "name": "python",
   "nbconvert_exporter": "python",
   "pygments_lexer": "ipython3",
   "version": "3.10.8"
  }
 },
 "nbformat": 4,
 "nbformat_minor": 5
}
