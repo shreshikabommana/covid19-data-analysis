{
 "cells": [
  {
   "cell_type": "code",
   "execution_count": 6,
   "id": "9b063103",
   "metadata": {},
   "outputs": [],
   "source": [
    "# Imports\n",
    "import pandas as pd\n",
    "import plotly.express as px\n",
    "from dash import Dash, dcc, html, Input, Output\n",
    "from jupyter_dash import JupyterDash\n",
    "import os"
   ]
  },
  {
   "cell_type": "code",
   "execution_count": 7,
   "id": "9f05c2a9",
   "metadata": {},
   "outputs": [
    {
     "name": "stdout",
     "output_type": "stream",
     "text": [
      "Dash is running on http://127.0.0.1:8050/\n",
      "\n"
     ]
    },
    {
     "data": {
      "text/html": [
       "\n",
       "        <iframe\n",
       "            width=\"100%\"\n",
       "            height=\"650\"\n",
       "            src=\"http://127.0.0.1:8050/\"\n",
       "            frameborder=\"0\"\n",
       "            allowfullscreen\n",
       "            \n",
       "        ></iframe>\n",
       "        "
      ],
      "text/plain": [
       "<IPython.lib.display.IFrame at 0x17f8ea53340>"
      ]
     },
     "metadata": {},
     "output_type": "display_data"
    }
   ],
   "source": [
    "os.chdir(r\"C:\\Users\\shres\\Desktop\\Job\\Experiences\\COVID-19 Project\")\n",
    "\n",
    "# Load data\n",
    "DATA_DIR = \"data\"\n",
    "OUTPUT_DIR = \"output\"\n",
    "os.makedirs(OUTPUT_DIR, exist_ok=True)\n",
    "\n",
    "deaths = pd.read_csv(\"data/coviddeath.csv\")\n",
    "\n",
    "# List of conditions\n",
    "conditions = ['Influenza and pneumonia', 'Chronic lower respiratory diseases',\n",
    "              'Adult respiratory distress syndrome', 'Respiratory failure',\n",
    "              'Respiratory arrest', 'Other diseases of the respiratory system',\n",
    "              'Hypertensive diseases', 'Ischemic heart disease', 'Cardiac arrest',\n",
    "              'Cardiac arrhythmia', 'Heart failure', 'Cerebrovascular diseases',\n",
    "              'Other diseases of the circulatory system', 'Sepsis', 'Malignant neoplasms',\n",
    "              'Diabetes', 'Obesity', 'Alzheimer disease', 'Vascular and unspecified dementia',\n",
    "              'Renal failure', 'Intentional and unintentional injury, poisoning, and other adverse events',\n",
    "              'All other conditions and causes (residual)', 'COVID-19']\n",
    "\n",
    "# App\n",
    "app = JupyterDash(__name__)\n",
    "\n",
    "app.layout = html.Div([\n",
    "    html.H3(\"Select Age Range and Condition\"),\n",
    "    dcc.Dropdown(\n",
    "        id='age-range-dropdown',\n",
    "        options=[{'label': age, 'value': age} for age in deaths['Age Group'].unique()],\n",
    "        value='All ages',\n",
    "    ),\n",
    "    dcc.Dropdown(\n",
    "        id='condition-dropdown',\n",
    "        options=[{'label': cond, 'value': cond} for cond in conditions],\n",
    "        value=conditions[0],\n",
    "    ),\n",
    "    html.Div(id='display-output', children=\"Results will be shown here.\"),\n",
    "    dcc.Graph(id='condition-visualization')\n",
    "])\n",
    "\n",
    "@app.callback(\n",
    "    [Output('display-output', 'children'),\n",
    "     Output('condition-visualization', 'figure')],\n",
    "    [Input('age-range-dropdown', 'value'),\n",
    "     Input('condition-dropdown', 'value')]\n",
    ")\n",
    "def update_output(age_range, condition):\n",
    "    filtered_data = deaths[(deaths['Age Group'] == age_range) & (deaths['Condition'] == condition)]\n",
    "    \n",
    "    output_text = f\"Age Range: {age_range}, Condition: {condition}, \" \\\n",
    "                  f\"Number of Records: {len(filtered_data)}\"\n",
    "\n",
    "    fig = px.bar(filtered_data,\n",
    "                 x='State',\n",
    "                 y='Number of COVID-19 Deaths',\n",
    "                 title=f\"COVID-19 Deaths by State for {condition} in Age Range: {age_range}\",\n",
    "                 labels={\"Number of COVID-19 Deaths\": \"Deaths\", \"State\": \"State\"})\n",
    "\n",
    "    fig.update_layout(\n",
    "        xaxis_title=\"State\",\n",
    "        yaxis_title=\"Number of Deaths\",\n",
    "        showlegend=False\n",
    "    )\n",
    "    \n",
    "    return output_text, fig\n",
    "\n",
    "# Run app\n",
    "app.run_server(mode='inline')  # Or mode='external' if inline doesn’t work\n"
   ]
  },
  {
   "cell_type": "code",
   "execution_count": null,
   "id": "97fa5712",
   "metadata": {},
   "outputs": [],
   "source": []
  }
 ],
 "metadata": {
  "kernelspec": {
   "display_name": "Python 3 (ipykernel)",
   "language": "python",
   "name": "python3"
  },
  "language_info": {
   "codemirror_mode": {
    "name": "ipython",
    "version": 3
   },
   "file_extension": ".py",
   "mimetype": "text/x-python",
   "name": "python",
   "nbconvert_exporter": "python",
   "pygments_lexer": "ipython3",
   "version": "3.10.8"
  }
 },
 "nbformat": 4,
 "nbformat_minor": 5
}
